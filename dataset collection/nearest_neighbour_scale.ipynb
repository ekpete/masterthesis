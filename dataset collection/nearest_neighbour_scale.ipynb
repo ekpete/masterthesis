{
 "cells": [
  {
   "cell_type": "code",
   "execution_count": 27,
   "id": "d21fd48a",
   "metadata": {},
   "outputs": [],
   "source": [
    "from PIL import Image\n",
    "import sys\n",
    "import os"
   ]
  },
  {
   "cell_type": "code",
   "execution_count": 31,
   "id": "b13f59d1",
   "metadata": {},
   "outputs": [
    {
     "data": {
      "text/plain": [
       "181"
      ]
     },
     "execution_count": 31,
     "metadata": {},
     "output_type": "execute_result"
    }
   ],
   "source": [
    "names = os.listdir(\"cartoon_input\") \n",
    "names.remove(\".DS_Store\")\n",
    "len(names)"
   ]
  },
  {
   "cell_type": "code",
   "execution_count": 32,
   "id": "d84ea87d",
   "metadata": {},
   "outputs": [
    {
     "name": "stdout",
     "output_type": "stream",
     "text": [
      "['176.png', '88.png', '162.png', '77.png', '63.png', '62.png', '76.png', '163.png', '177.png', '89.png', '149.png', '161.png', '175.png', '60.png', '74.png', '48.png', '49.png', '75.png', '61.png', '174.png', '160.png', '148.png', '164.png', '170.png', '158.png', '59.png', '65.png', '71.png', '70.png', '64.png', '58.png', '159.png', '171.png', '165.png', '173.png', '167.png', '99.png', '8.png', '72.png', '66.png', '67.png', '73.png', '9.png', '166.png', '98.png', '172.png', '129.png', '115.png', '101.png', '14.png', '28.png', '29.png', '15.png', '100.png', '114.png', '128.png', '102.png', '116.png', '17.png', '16.png', '117.png', '103.png', '107.png', '113.png', '12.png', '13.png', '112.png', '106.png', '110.png', '104.png', '138.png', '39.png', '11.png', '10.png', '38.png', '139.png', '105.png', '111.png', '108.png', '134.png', '120.png', '35.png', '21.png', '20.png', '34.png', '121.png', '135.png', '109.png', '123.png', '137.png', '22.png', '36.png', '37.png', '23.png', '136.png', '122.png', '126.png', '132.png', '27.png', '33.png', '32.png', '26.png', '133.png', '127.png', '131.png', '125.png', '119.png', '18.png', '30.png', '24.png', '25.png', '31.png', '19.png', '118.png', '124.png', '130.png', '95.png', '81.png', '157.png', '143.png', '4.png', '56.png', '42.png', '43.png', '5.png', '57.png', '142.png', '156.png', '80.png', '94.png', '82.png', '96.png', '168.png', '140.png', '154.png', '41.png', '55.png', '7.png', '69.png', '68.png', '54.png', '6.png', '40.png', '155.png', '141.png', '97.png', '169.png', '83.png', '145.png', '151.png', '87.png', '179.png', '93.png', '78.png', '44.png', '2.png', '50.png', '3.png', '51.png', '45.png', '79.png', '92.png', '86.png', '178.png', '150.png', '144.png', '152.png', '146.png', '90.png', '84.png', '53.png', '1.png', '47.png', '101 copy.png', '46.png', '52.png', '0.png', '85.png', '91.png', '147.png', '153.png']\n"
     ]
    }
   ],
   "source": [
    "print(names)"
   ]
  },
  {
   "cell_type": "code",
   "execution_count": 74,
   "id": "bcbc8b07",
   "metadata": {},
   "outputs": [],
   "source": [
    "maxwidth =192\n",
    "maxheight =192\n",
    "path = \"dataset/cartoon2pixelart/test/B/\"\n",
    "\n",
    "for i in range(1):\n",
    "    #image = Image.open(f\"cartoon_input/{i}.png\")\n",
    "    image = Image.open(\"mickey_large256nearest.png\")\n",
    "    img_w, img_h = image.size\n",
    "    ratio = min(maxwidth/img_w, maxheight/img_h)\n",
    "\n",
    "    image = image.resize((int(img_w*ratio), int(img_h*ratio)), Image.BICUBIC).convert('RGB')\n",
    "    image.save(f\"mickey_192.png\",\"PNG\")"
   ]
  },
  {
   "cell_type": "code",
   "execution_count": null,
   "id": "64fca91e",
   "metadata": {},
   "outputs": [],
   "source": []
  }
 ],
 "metadata": {
  "kernelspec": {
   "display_name": "Python 3 (ipykernel)",
   "language": "python",
   "name": "python3"
  },
  "language_info": {
   "codemirror_mode": {
    "name": "ipython",
    "version": 3
   },
   "file_extension": ".py",
   "mimetype": "text/x-python",
   "name": "python",
   "nbconvert_exporter": "python",
   "pygments_lexer": "ipython3",
   "version": "3.9.7"
  }
 },
 "nbformat": 4,
 "nbformat_minor": 5
}
