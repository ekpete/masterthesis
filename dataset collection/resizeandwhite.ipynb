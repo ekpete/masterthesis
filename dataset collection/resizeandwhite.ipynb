{
 "cells": [
  {
   "cell_type": "code",
   "execution_count": 2,
   "id": "aa0e4122",
   "metadata": {},
   "outputs": [],
   "source": [
    "from PIL import Image\n",
    "import sys\n",
    "import glob"
   ]
  },
  {
   "cell_type": "code",
   "execution_count": 12,
   "id": "4b0e8d5e",
   "metadata": {},
   "outputs": [
    {
     "name": "stdout",
     "output_type": "stream",
     "text": [
      "c2smal.png\n",
      "RGBA\n"
     ]
    }
   ],
   "source": [
    "#images = glob.glob(\"google_cartoon/*.png\")\n",
    "maxwidth = 256\n",
    "maxheight = 256\n",
    "\n",
    "images = [\"c2smal.png\"]\n",
    "\n",
    "i = 0\n",
    "for img in images:\n",
    "    with open(img, 'rb') as file:\n",
    "        image = Image.open(file).convert('RGBA')\n",
    "        img_w, img_h = image.size\n",
    "        #if img_w > 1000 or img_h>1000:\n",
    "        if False:\n",
    "            pass\n",
    "        else:\n",
    "            if img_w > maxwidth or img_h > maxheight: # scale down image to fit inside maxwidth x maxheight\n",
    "                ratio = min(maxwidth/img_w, maxheight/img_h)\n",
    "                image = image.resize((int(img_w*ratio), int(img_h*ratio)), Image.BICUBIC)\n",
    "                \n",
    "            print(img)\n",
    "            print(image.mode)\n",
    "            \n",
    "            if image.mode == \"RGBA\":\n",
    "                img_w, img_h = image.size\n",
    "                background = Image.new(\"RGBA\", (256,256), \"WHITE\") # Create a white rgba background\n",
    "                bg_w, bg_h = background.size\n",
    "                offset = ((bg_w - img_w) // 2, (bg_h - img_h) // 2) # Calulate center placement\n",
    "                background.paste(image, offset, image)              # Paste the image on the background\n",
    "                background.convert('RGB').save(f\"cartoon{i+13}.png\",\"PNG\")  # Convert to RGB and save as PNG\n",
    "            i+=1"
   ]
  },
  {
   "cell_type": "code",
   "execution_count": null,
   "id": "2586f42c",
   "metadata": {},
   "outputs": [],
   "source": []
  }
 ],
 "metadata": {
  "kernelspec": {
   "display_name": "Python 3 (ipykernel)",
   "language": "python",
   "name": "python3"
  },
  "language_info": {
   "codemirror_mode": {
    "name": "ipython",
    "version": 3
   },
   "file_extension": ".py",
   "mimetype": "text/x-python",
   "name": "python",
   "nbconvert_exporter": "python",
   "pygments_lexer": "ipython3",
   "version": "3.9.7"
  }
 },
 "nbformat": 4,
 "nbformat_minor": 5
}
