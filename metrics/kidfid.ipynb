{
 "cells": [
  {
   "cell_type": "code",
   "execution_count": 1,
   "id": "45c3afeb",
   "metadata": {},
   "outputs": [
    {
     "name": "stdout",
     "output_type": "stream",
     "text": [
      "Creating feature extractor \"inception-v3-compat\" with features ['logits_unbiased']\n",
      "Extracting features from input1\n",
      "Looking for samples non-recursivelty in \"inf/realpixel/\" with extensions png,jpg,jpeg\n",
      "Found 180 samples\n",
      "Processing samples                                                              \n",
      "Inception Score: 3.5150668045078044 ± 0.2874881012007046\n",
      "inception_score_mean: 3.515067\n",
      "inception_score_std: 0.2874881\n"
     ]
    }
   ],
   "source": [
    "!fidelity --isc --input1 \"inf/realpixel/\""
   ]
  },
  {
   "cell_type": "code",
   "execution_count": 2,
   "id": "bef5f311",
   "metadata": {},
   "outputs": [
    {
     "name": "stdout",
     "output_type": "stream",
     "text": [
      "Creating feature extractor \"inception-v3-compat\" with features ['logits_unbiased']\n",
      "Extracting features from input1\n",
      "Looking for samples non-recursivelty in \"inf/base_lambda_5/\" with extensions png,jpg,jpeg\n",
      "Found 180 samples\n",
      "Processing samples                                                              \n",
      "Inception Score: 3.958151860966985 ± 0.5692292502590425\n",
      "inception_score_mean: 3.958152\n",
      "inception_score_std: 0.5692293\n"
     ]
    }
   ],
   "source": [
    "!fidelity --isc --input1 \"inf/base_lambda_5/\""
   ]
  },
  {
   "cell_type": "code",
   "execution_count": 3,
   "id": "8878fb4f",
   "metadata": {},
   "outputs": [
    {
     "name": "stdout",
     "output_type": "stream",
     "text": [
      "Creating feature extractor \"inception-v3-compat\" with features ['logits_unbiased']\n",
      "Extracting features from input1\n",
      "Looking for samples non-recursivelty in \"inf/base_distill_sn_9resnet/\" with extensions png,jpg,jpeg\n",
      "Found 180 samples\n",
      "Processing samples                                                              \n",
      "Inception Score: 3.6791973503492663 ± 0.600547902676722\n",
      "inception_score_mean: 3.679197\n",
      "inception_score_std: 0.6005479\n"
     ]
    }
   ],
   "source": [
    "!fidelity --isc --input1 \"inf/base_distill_sn_9resnet/\""
   ]
  },
  {
   "cell_type": "code",
   "execution_count": 4,
   "id": "bd181c5e",
   "metadata": {},
   "outputs": [
    {
     "name": "stdout",
     "output_type": "stream",
     "text": [
      "Creating feature extractor \"inception-v3-compat\" with features ['logits_unbiased']\n",
      "Extracting features from input1\n",
      "Looking for samples non-recursivelty in \"inf/unet_sn_ssim/\" with extensions png,jpg,jpeg\n",
      "Found 180 samples\n",
      "Processing samples                                                              \n",
      "Inception Score: 3.7260814077212254 ± 0.6485759942640605\n",
      "inception_score_mean: 3.726081\n",
      "inception_score_std: 0.648576\n"
     ]
    }
   ],
   "source": [
    "!fidelity --isc --input1 \"inf/unet_sn_ssim/\""
   ]
  },
  {
   "cell_type": "code",
   "execution_count": 5,
   "id": "a8098aaf",
   "metadata": {},
   "outputs": [
    {
     "name": "stdout",
     "output_type": "stream",
     "text": [
      "Creating feature extractor \"inception-v3-compat\" with features ['logits_unbiased']\n",
      "Extracting features from input1\n",
      "Looking for samples non-recursivelty in \"inf/self_attention_1/\" with extensions png,jpg,jpeg\n",
      "Found 180 samples\n",
      "Processing samples                                                              \n",
      "Inception Score: 3.6823237270648144 ± 0.2760077239653266\n",
      "inception_score_mean: 3.682324\n",
      "inception_score_std: 0.2760077\n"
     ]
    }
   ],
   "source": [
    "!fidelity --isc --input1 \"inf/self_attention_1/\""
   ]
  },
  {
   "cell_type": "code",
   "execution_count": 6,
   "id": "03b91530",
   "metadata": {},
   "outputs": [
    {
     "name": "stdout",
     "output_type": "stream",
     "text": [
      "Creating feature extractor \"inception-v3-compat\" with features ['2048']\n",
      "Extracting statistics from input 1\n",
      "Looking for samples non-recursivelty in \"inf/realpixel/\" with extensions png,jpg,jpeg\n",
      "Found 180 samples\n",
      "Processing samples                                                              \n",
      "Extracting statistics from input 2\n",
      "Looking for samples non-recursivelty in \"inf/base_lambda_5/\" with extensions png,jpg,jpeg\n",
      "Found 180 samples\n",
      "Processing samples                                                              \n",
      "Frechet Inception Distance: 162.44652861391063\n",
      "frechet_inception_distance: 162.4465\n"
     ]
    }
   ],
   "source": [
    "!fidelity --fid --input1 \"inf/realpixel/\" --input2 \"inf/base_lambda_5/\""
   ]
  },
  {
   "cell_type": "code",
   "execution_count": 7,
   "id": "55471651",
   "metadata": {},
   "outputs": [
    {
     "name": "stdout",
     "output_type": "stream",
     "text": [
      "Creating feature extractor \"inception-v3-compat\" with features ['2048']\n",
      "Extracting statistics from input 1\n",
      "Looking for samples non-recursivelty in \"inf/realpixel/\" with extensions png,jpg,jpeg\n",
      "Found 180 samples\n",
      "Processing samples                                                              \n",
      "Extracting statistics from input 2\n",
      "Looking for samples non-recursivelty in \"inf/base_distill_sn_9resnet/\" with extensions png,jpg,jpeg\n",
      "Found 180 samples\n",
      "Processing samples                                                              \n",
      "Frechet Inception Distance: 132.49243101276198\n",
      "frechet_inception_distance: 132.4924\n"
     ]
    }
   ],
   "source": [
    "!fidelity --fid --input1 \"inf/realpixel/\" --input2 \"inf/base_distill_sn_9resnet/\""
   ]
  },
  {
   "cell_type": "code",
   "execution_count": 8,
   "id": "c8171443",
   "metadata": {},
   "outputs": [
    {
     "name": "stdout",
     "output_type": "stream",
     "text": [
      "Creating feature extractor \"inception-v3-compat\" with features ['2048']\n",
      "Extracting statistics from input 1\n",
      "Looking for samples non-recursivelty in \"inf/realpixel/\" with extensions png,jpg,jpeg\n",
      "Found 180 samples\n",
      "Processing samples                                                              \n",
      "Extracting statistics from input 2\n",
      "Looking for samples non-recursivelty in \"inf/unet_sn_ssim/\" with extensions png,jpg,jpeg\n",
      "Found 180 samples\n",
      "Processing samples                                                              \n",
      "Frechet Inception Distance: 132.78290748334288\n",
      "frechet_inception_distance: 132.7829\n"
     ]
    }
   ],
   "source": [
    "!fidelity --fid --input1 \"inf/realpixel/\" --input2 \"inf/unet_sn_ssim/\""
   ]
  },
  {
   "cell_type": "code",
   "execution_count": 9,
   "id": "843e2dc9",
   "metadata": {},
   "outputs": [
    {
     "name": "stdout",
     "output_type": "stream",
     "text": [
      "Creating feature extractor \"inception-v3-compat\" with features ['2048']\n",
      "Extracting statistics from input 1\n",
      "Looking for samples non-recursivelty in \"inf/realpixel/\" with extensions png,jpg,jpeg\n",
      "Found 180 samples\n",
      "Processing samples                                                              \n",
      "Extracting statistics from input 2\n",
      "Looking for samples non-recursivelty in \"inf/self_attention_1/\" with extensions png,jpg,jpeg\n",
      "Found 180 samples\n",
      "Processing samples                                                              \n",
      "Frechet Inception Distance: 162.32877048125732\n",
      "frechet_inception_distance: 162.3288\n"
     ]
    }
   ],
   "source": [
    "!fidelity --fid --input1 \"inf/realpixel/\" --input2 \"inf/self_attention_1/\""
   ]
  },
  {
   "cell_type": "code",
   "execution_count": null,
   "id": "84adf958",
   "metadata": {},
   "outputs": [],
   "source": []
  },
  {
   "cell_type": "code",
   "execution_count": 10,
   "id": "035c36ef",
   "metadata": {},
   "outputs": [
    {
     "name": "stdout",
     "output_type": "stream",
     "text": [
      "Creating feature extractor \"inception-v3-compat\" with features ['2048']\n",
      "Extracting features from input1\n",
      "Looking for samples non-recursivelty in \"inf/realpixel/\" with extensions png,jpg,jpeg\n",
      "Found 180 samples\n",
      "Processing samples                                                              \n",
      "Extracting features from input2\n",
      "Looking for samples non-recursivelty in \"inf/base_lambda_5/\" with extensions png,jpg,jpeg\n",
      "Found 180 samples\n",
      "Processing samples                                                              \n",
      "Kernel Inception Distance: 0.04803869423400672 ± 0.009744634137376716           \n",
      "kernel_inception_distance_mean: 0.04803869\n",
      "kernel_inception_distance_std: 0.009744634\n"
     ]
    }
   ],
   "source": [
    "!fidelity --kid --input1 \"inf/realpixel/\" --input2  \"inf/base_lambda_5/\" --kid-subset-size 45"
   ]
  },
  {
   "cell_type": "code",
   "execution_count": 11,
   "id": "fafc06b4",
   "metadata": {},
   "outputs": [
    {
     "name": "stdout",
     "output_type": "stream",
     "text": [
      "Creating feature extractor \"inception-v3-compat\" with features ['2048']\n",
      "Extracting features from input1\n",
      "Looking for samples non-recursivelty in \"inf/realpixel/\" with extensions png,jpg,jpeg\n",
      "Found 180 samples\n",
      "Processing samples                                                              \n",
      "Extracting features from input2\n",
      "Looking for samples non-recursivelty in \"inf/base_distill_sn_9resnet/\" with extensions png,jpg,jpeg\n",
      "Found 180 samples\n",
      "Processing samples                                                              \n",
      "Kernel Inception Distance: 0.01863829582719554 ± 0.006130261192847041           \n",
      "kernel_inception_distance_mean: 0.0186383\n",
      "kernel_inception_distance_std: 0.006130261\n"
     ]
    }
   ],
   "source": [
    "!fidelity --kid --input1 \"inf/realpixel/\" --input2  \"inf/base_distill_sn_9resnet/\" --kid-subset-size 45"
   ]
  },
  {
   "cell_type": "code",
   "execution_count": 12,
   "id": "dfe5b6e5",
   "metadata": {},
   "outputs": [
    {
     "name": "stdout",
     "output_type": "stream",
     "text": [
      "Creating feature extractor \"inception-v3-compat\" with features ['2048']\n",
      "Extracting features from input1\n",
      "Looking for samples non-recursivelty in \"inf/realpixel/\" with extensions png,jpg,jpeg\n",
      "Found 180 samples\n",
      "Processing samples                                                              \n",
      "Extracting features from input2\n",
      "Looking for samples non-recursivelty in \"inf/unet_sn_ssim/\" with extensions png,jpg,jpeg\n",
      "Found 180 samples\n",
      "Processing samples                                                              \n",
      "Kernel Inception Distance: 0.020366532567427757 ± 0.006164076912439586          \n",
      "kernel_inception_distance_mean: 0.02036653\n",
      "kernel_inception_distance_std: 0.006164077\n"
     ]
    }
   ],
   "source": [
    "!fidelity --kid --input1 \"inf/realpixel/\" --input2 \"inf/unet_sn_ssim/\" --kid-subset-size 45"
   ]
  },
  {
   "cell_type": "code",
   "execution_count": 13,
   "id": "2c6d90f3",
   "metadata": {},
   "outputs": [
    {
     "name": "stdout",
     "output_type": "stream",
     "text": [
      "Creating feature extractor \"inception-v3-compat\" with features ['2048']\n",
      "Extracting features from input1\n",
      "Looking for samples non-recursivelty in \"inf/realpixel/\" with extensions png,jpg,jpeg\n",
      "Found 180 samples\n",
      "Processing samples                                                              \n",
      "Extracting features from input2\n",
      "Looking for samples non-recursivelty in \"inf/self_attention_1/\" with extensions png,jpg,jpeg\n",
      "Found 180 samples\n",
      "Processing samples                                                              \n",
      "Kernel Inception Distance: 0.055537513207158336 ± 0.010374710549174411          \n",
      "kernel_inception_distance_mean: 0.05553751\n",
      "kernel_inception_distance_std: 0.01037471\n"
     ]
    }
   ],
   "source": [
    "!fidelity --kid --input1 \"inf/realpixel/\" --input2 \"inf/self_attention_1/\" --kid-subset-size 45"
   ]
  },
  {
   "cell_type": "code",
   "execution_count": null,
   "id": "c9c61742",
   "metadata": {},
   "outputs": [],
   "source": []
  },
  {
   "cell_type": "code",
   "execution_count": null,
   "id": "afc8dbe3",
   "metadata": {},
   "outputs": [],
   "source": []
  }
 ],
 "metadata": {
  "kernelspec": {
   "display_name": "Python 3 (ipykernel)",
   "language": "python",
   "name": "python3"
  },
  "language_info": {
   "codemirror_mode": {
    "name": "ipython",
    "version": 3
   },
   "file_extension": ".py",
   "mimetype": "text/x-python",
   "name": "python",
   "nbconvert_exporter": "python",
   "pygments_lexer": "ipython3",
   "version": "3.9.7"
  }
 },
 "nbformat": 4,
 "nbformat_minor": 5
}
